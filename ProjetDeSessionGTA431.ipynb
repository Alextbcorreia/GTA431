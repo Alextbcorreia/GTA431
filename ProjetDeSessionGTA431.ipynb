{
 "cells": [
  {
   "cell_type": "code",
   "execution_count": 1,
   "id": "2f456b9f",
   "metadata": {
    "scrolled": false
   },
   "outputs": [
    {
     "name": "stdout",
     "output_type": "stream",
     "text": [
      "      id  lieu_infraction _no_civique lieu_infraction _rue  \\\n",
      "0      1                         2094        Place Beaudet   \n",
      "1      2                         2094        Place Beaudet   \n",
      "2      3                         3290                Goyer   \n",
      "3      4                         3290                Goyer   \n",
      "4      5                         3290                Goyer   \n",
      "..   ...                          ...                  ...   \n",
      "96    97                         4550              Brebeuf   \n",
      "97    98                         4540              Brebeuf   \n",
      "98    99                         4524              Brebeuf   \n",
      "99   100                         4524              Brebeuf   \n",
      "100  101                         4524              Brebeuf   \n",
      "\n",
      "    code_arrondissement         nom_contrevenant           article  \\\n",
      "0                    ST          Michael A. Pires         23 al. 1   \n",
      "1                    ST          Michael A. Pires         23 al. 2   \n",
      "2                    CN  Immeuble 3290 Goyer Inc.  25 al. 2 par. 9   \n",
      "3                    CN  Immeuble 3290 Goyer Inc.  25 al. 2 par. 9   \n",
      "4                    CN  Immeuble 3290 Goyer Inc.  25 al. 2 par. 9   \n",
      "..                  ...                       ...              ...   \n",
      "96                   PL         El Akrass Hussein               28   \n",
      "97                   PL         El Akrass Hussein               28   \n",
      "98                   PL         El Akrass Hussein               26   \n",
      "99                   PL         El Akrass Hussein        35.2 al.1   \n",
      "100                  PL         El Akrass Hussein            64.54   \n",
      "\n",
      "                                     nature_infraction date_jugement  \\\n",
      "0    En ayant une partie du bâtiment évacué en vert...    05-04-2018   \n",
      "1    Étant propriétaire d'un bâtiment, en n'ayant p...    05-04-2018   \n",
      "2     En ayant des rongeurs (souris) dans un logement.    05-04-2018   \n",
      "3              En ayant des rongeurs dans un logement.    05-04-2018   \n",
      "4    En ayant des insectes (coquerelles) dans un lo...    05-04-2018   \n",
      "..                                                 ...           ...   \n",
      "96   en ayant un bâtiment dont les ouvertures dans ...    28-04-2021   \n",
      "97   en ayant une partie ou un accessoire d'un bâti...    28-04-2021   \n",
      "98   en ayant une partie constituante d'un bâtiment...    28-04-2021   \n",
      "99   en ayant une pièce ou un espace destiné à la p...    28-04-2021   \n",
      "100  en ayant un balcon qui n'est pas muni d'un gar...    28-04-2021   \n",
      "\n",
      "     amende_imposée   \n",
      "0               1500  \n",
      "1               1500  \n",
      "2               1350  \n",
      "3               1350  \n",
      "4               1350  \n",
      "..               ...  \n",
      "96              1500  \n",
      "97               675  \n",
      "98              1500  \n",
      "99               675  \n",
      "100              250  \n",
      "\n",
      "[101 rows x 9 columns]\n"
     ]
    }
   ],
   "source": [
    "import pandas as pd\n",
    "import matplotlib.pyplot as plt\n",
    "import numpy as np\n",
    "import statistics\n",
    "import datetime\n",
    "\n",
    "donnees_logements = pd.read_csv(\"liste_des_contrevenants_condamnes.csv\")\n",
    "print(donnees_logements)"
   ]
  },
  {
   "cell_type": "code",
   "execution_count": 2,
   "id": "76858b7a",
   "metadata": {},
   "outputs": [
    {
     "name": "stdout",
     "output_type": "stream",
     "text": [
      "La date la plus ancienne est:  2018-04-05 00:00:00  et la date la plus récente est:  2021-12-08 00:00:00\n"
     ]
    }
   ],
   "source": [
    "donnees_logements['date_jugement'] = donnees_logements['date_jugement'].apply(lambda v: datetime.datetime.strptime(v, '%d-%m-%Y'))\n",
    "print(\"La date la plus ancienne est: \", donnees_logements['date_jugement'].min(), \" et la date la plus récente est: \", donnees_logements['date_jugement'].max())"
   ]
  },
  {
   "cell_type": "code",
   "execution_count": 3,
   "id": "c12b7cfd",
   "metadata": {},
   "outputs": [
    {
     "name": "stdout",
     "output_type": "stream",
     "text": [
      "Le nombre d'infractions par arrondissement est:  code_arrondissement\n",
      "MN    22\n",
      "CN    16\n",
      "VM    15\n",
      "PL    11\n",
      "AC     8\n",
      "LN     8\n",
      "ST     7\n",
      "VY     4\n",
      "VE     3\n",
      "AJ     2\n",
      "IG     2\n",
      "RO     2\n",
      "HM     1\n",
      "Name: code_arrondissement, dtype: int64\n"
     ]
    }
   ],
   "source": [
    "nombre_amende_arrondissement = donnees_logements.groupby(\"code_arrondissement\")[\"code_arrondissement\"].count().sort_values(ascending=False)\n",
    "print(\"Le nombre d'infractions par arrondissement est: \", nombre_amende_arrondissement)"
   ]
  },
  {
   "cell_type": "code",
   "execution_count": 4,
   "id": "b6705fa3",
   "metadata": {},
   "outputs": [
    {
     "data": {
      "image/png": "[encoded data removed]",
      "text/plain": [
       "<Figure size 432x288 with 1 Axes>"
      ]
     },
     "metadata": {
      "needs_background": "light"
     },
     "output_type": "display_data"
    }
   ],
   "source": [
    "nombre_amende_arrondissement.plot(kind=\"bar\")\n",
    "plt.title(\"Nombre d'infraction par arrondissement\")\n",
    "plt.ylabel(\"Nombre d'infractions\")\n",
    "plt.xlabel(\"Arrondissement\")\n",
    "plt.show()"
   ]
  },
  {
   "cell_type": "code",
   "execution_count": 5,
   "id": "a0ff0ddd",
   "metadata": {},
   "outputs": [
    {
     "name": "stdout",
     "output_type": "stream",
     "text": [
      "La moyenne du nombre d'infraction par arrondissement est:  7.769230769230769\n"
     ]
    }
   ],
   "source": [
    "moyenne_nombre_amende_arrondissement = nombre_amende_arrondissement.mean()\n",
    "print(\"La moyenne du nombre d'infraction par arrondissement est: \", moyenne_nombre_amende_arrondissement)"
   ]
  },
  {
   "cell_type": "code",
   "execution_count": 6,
   "id": "45210e8b",
   "metadata": {},
   "outputs": [
    {
     "name": "stdout",
     "output_type": "stream",
     "text": [
      "L'écart-type du nombre d'infraction par arrondissement est:  6.302061276388936\n"
     ]
    }
   ],
   "source": [
    "ecart_type_nombre_amende_arrondissement = statistics.pstdev(nombre_amende_arrondissement, mu=None)\n",
    "print(\"L'écart-type du nombre d'infraction par arrondissement est: \", ecart_type_nombre_amende_arrondissement)"
   ]
  },
  {
   "cell_type": "code",
   "execution_count": 7,
   "id": "cb5061a1",
   "metadata": {},
   "outputs": [
    {
     "name": "stdout",
     "output_type": "stream",
     "text": [
      "La moyenne à MN est:  864.9850006590639\n",
      "La moyenne à CN est:  1335.7087714702334\n",
      "La moyenne à VM est:  3511.8233194366176\n",
      "La moyenne à PL est:  1283.6098074100391\n",
      "La moyenne à AC est:  1067.1290644682927\n",
      "La moyenne à LN est:  1012.166434534474\n",
      "La moyenne à ST est:  1796.4110500511415\n",
      "La moyenne à VY est:  1021.9794415319434\n",
      "La moyenne à VE est:  832.5443949218937\n",
      "La moyenne à AJ est:  1435.6209702574904\n",
      "La moyenne à IG est:  715.2802927781391\n",
      "La moyenne à RO est:  939.7879595729953\n",
      "La moyenne à HM est:  890.605348192179\n"
     ]
    }
   ],
   "source": [
    "donnees_MN = pd.read_csv(\"taxes-municipales-montreal-nord.csv\", delimiter=\",\", low_memory=False)\n",
    "donnees_CN = pd.read_csv(\"taxes-municipales-cote-des-neiges-notre-dame-de-grace.csv\", delimiter=\",\", low_memory=False)\n",
    "donnees_VM = pd.read_csv(\"taxes-municipales-ville-marie.csv\", delimiter=\",\", low_memory=False)\n",
    "donnees_PL = pd.read_csv(\"taxes-municipales-plateau-mont-royal.csv\", delimiter=\",\", low_memory=False)\n",
    "donnees_AC = pd.read_csv(\"taxes-municipales-ahuntsic-cartierville.csv\", delimiter=\",\", low_memory=False)\n",
    "donnees_LN = pd.read_csv(\"taxes-municipales-lachine.csv\", delimiter=\",\", low_memory=False)\n",
    "donnees_ST = pd.read_csv(\"taxes-municipales-saint-laurent.csv\", delimiter=\",\", low_memory=False)\n",
    "donnees_VY = pd.read_csv(\"taxes-municipales-villeray-saint-michel-parc-extension.csv\", delimiter=\",\", low_memory=False)\n",
    "donnees_VE = pd.read_csv(\"taxes-municipales-verdun.csv\", delimiter=\",\", low_memory=False)\n",
    "donnees_AJ = pd.read_csv(\"taxes-municipales-anjou.csv\", delimiter=\",\", low_memory=False)\n",
    "donnees_IG = pd.read_csv(\"taxes-municipales-ile-bizard-ste-genevieve.csv\", delimiter=\",\", low_memory=False)\n",
    "donnees_RO = pd.read_csv(\"taxes-municipales-rosemont-petite-patrie.csv\", delimiter=\",\", low_memory=False)\n",
    "donnees_HM = pd.read_csv(\"taxes-municipales-mercier-hochelaga-maisonneuve.csv\", delimiter=\",\", low_memory=False)\n",
    "\n",
    "moyenne_MN = donnees_MN[\"MONTANT_DETAIL\"].mean()\n",
    "moyenne_CN = donnees_CN[\"MONTANT_DETAIL\"].mean()\n",
    "moyenne_VM = donnees_VM[\"MONTANT_DETAIL\"].mean()\n",
    "moyenne_PL = donnees_PL[\"MONTANT_DETAIL\"].mean()\n",
    "moyenne_AC = donnees_AC[\"MONTANT_DETAIL\"].mean()\n",
    "moyenne_LN = donnees_LN[\"MONTANT_DETAIL\"].mean()\n",
    "moyenne_ST = donnees_ST[\"MONTANT_DETAIL\"].mean()\n",
    "moyenne_VY = donnees_VY[\"MONTANT_DETAIL\"].mean()\n",
    "moyenne_VE = donnees_VE[\"MONTANT_DETAIL\"].mean()\n",
    "moyenne_AJ = donnees_AJ[\"MONTANT_DETAIL\"].mean()\n",
    "moyenne_IG = donnees_IG[\"MONTANT_DETAIL\"].mean()\n",
    "moyenne_RO = donnees_RO[\"MONTANT_DETAIL\"].mean()\n",
    "moyenne_HM = donnees_HM[\"MONTANT_DETAIL\"].mean()\n",
    "\n",
    "\n",
    "print(\"La moyenne à MN est: \", moyenne_MN)\n",
    "print(\"La moyenne à CN est: \", moyenne_CN)\n",
    "print(\"La moyenne à VM est: \", moyenne_VM)\n",
    "print(\"La moyenne à PL est: \", moyenne_PL)\n",
    "print(\"La moyenne à AC est: \", moyenne_AC)\n",
    "print(\"La moyenne à LN est: \", moyenne_LN)\n",
    "print(\"La moyenne à ST est: \", moyenne_ST)\n",
    "print(\"La moyenne à VY est: \", moyenne_VY)\n",
    "print(\"La moyenne à VE est: \", moyenne_VE)\n",
    "print(\"La moyenne à AJ est: \", moyenne_AJ)\n",
    "print(\"La moyenne à IG est: \", moyenne_IG)\n",
    "print(\"La moyenne à RO est: \", moyenne_RO)\n",
    "print(\"La moyenne à HM est: \", moyenne_HM)"
   ]
  },
  {
   "cell_type": "code",
   "execution_count": 8,
   "id": "4546cdb7",
   "metadata": {},
   "outputs": [
    {
     "name": "stdout",
     "output_type": "stream",
     "text": [
      "<BarContainer object of 13 artists>\n"
     ]
    },
    {
     "data": {
      "image/png": "[encoded data removed]",
      "text/plain": [
       "<Figure size 432x288 with 1 Axes>"
      ]
     },
     "metadata": {
      "needs_background": "light"
     },
     "output_type": "display_data"
    }
   ],
   "source": [
    "arrondissements = [\"MN\", \"CN\", \"VM\", \"PL\", \"AC\", \"LN\", \"ST\", \"VY\", \"VE\", \"AJ\", \"IG\", \"RO\", \"HM\"]\n",
    "values = range(len(arrondissements))\n",
    "\n",
    "liste_moyennes_taxes_arrondissements = [moyenne_MN, moyenne_CN, moyenne_VM, moyenne_PL, moyenne_AC, moyenne_LN, moyenne_ST, moyenne_VY, moyenne_VE, moyenne_AJ, moyenne_IG, moyenne_RO, moyenne_HM]\n",
    "\n",
    "moyenne_taxes_arrondissement = plt.bar(range(13), liste_moyennes_taxes_arrondissements)\n",
    "plt.title(\"Moyenne des taxes par arrondissement\")\n",
    "plt.ylabel('Moyenne des taxes municipales')\n",
    "plt.xlabel('Arrondissement')\n",
    "plt.xticks(values, arrondissements)\n",
    "print(moyenne_taxes_arrondissement)"
   ]
  },
  {
   "cell_type": "code",
   "execution_count": 9,
   "id": "5b141ad7",
   "metadata": {},
   "outputs": [
    {
     "name": "stdout",
     "output_type": "stream",
     "text": [
      "0.35196619703743987\n"
     ]
    }
   ],
   "source": [
    "x = pd.Series([22, 16, 15, 11, 8, 8, 7, 4, 3, 2, 2, 2, 1])\n",
    "y = pd.Series(liste_moyennes_taxes_arrondissements)\n",
    "correlation = y.corr(x)\n",
    "print(correlation)"
   ]
  },
  {
   "cell_type": "code",
   "execution_count": 10,
   "id": "5ac74a3e",
   "metadata": {
    "scrolled": true
   },
   "outputs": [
    {
     "data": {
      "image/png": "[encoded data removed]",
      "text/plain": [
       "<Figure size 432x288 with 1 Axes>"
      ]
     },
     "metadata": {
      "needs_background": "light"
     },
     "output_type": "display_data"
    }
   ],
   "source": [
    "plt.title('Corrélation')\n",
    "\n",
    "plt.scatter(x, y)\n",
    "\n",
    "plt.plot(np.unique(x),\n",
    "         np.poly1d(np.polyfit(x, y, 1))\n",
    "         (np.unique(x)), color='red')\n",
    "\n",
    "plt.xlabel(\"Nombre d'infraction\")\n",
    "plt.ylabel(\"Moyenne des taxes municipales\")\n",
    "\n",
    "plt.show()"
   ]
  },
  {
   "cell_type": "code",
   "execution_count": 11,
   "id": "266ebbff",
   "metadata": {
    "scrolled": true
   },
   "outputs": [
    {
     "name": "stdout",
     "output_type": "stream",
     "text": [
      "La somme totale des amendes par arrondissement est:  code_arrondissement\n",
      "MN    27125\n",
      "LN    17175\n",
      "CN    14800\n",
      "VM    14200\n",
      "AC    10225\n",
      "PL    10050\n",
      "ST     5500\n",
      "VY     3550\n",
      "VE     3350\n",
      "AJ     2250\n",
      "RO     1900\n",
      "IG     1350\n",
      "HM      250\n",
      "Name: amende_imposée , dtype: int64\n"
     ]
    }
   ],
   "source": [
    "total_amende_arrondissement = donnees_logements.groupby(\"code_arrondissement\")[\"amende_imposée \"].sum().sort_values(ascending=False)\n",
    "print(\"La somme totale des amendes par arrondissement est: \", total_amende_arrondissement)"
   ]
  },
  {
   "cell_type": "code",
   "execution_count": 12,
   "id": "7eed946f",
   "metadata": {
    "scrolled": true
   },
   "outputs": [
    {
     "name": "stdout",
     "output_type": "stream",
     "text": [
      "La moyenne des amendes par arrondissement est:  code_arrondissement\n",
      "LN    2146.875000\n",
      "AC    1278.125000\n",
      "MN    1232.954545\n",
      "AJ    1125.000000\n",
      "VE    1116.666667\n",
      "RO     950.000000\n",
      "VM     946.666667\n",
      "CN     925.000000\n",
      "PL     913.636364\n",
      "VY     887.500000\n",
      "ST     785.714286\n",
      "IG     675.000000\n",
      "HM     250.000000\n",
      "Name: amende_imposée , dtype: float64\n"
     ]
    }
   ],
   "source": [
    "moyenne_total_amende_arrondissement = donnees_logements.groupby(\"code_arrondissement\")[\"amende_imposée \"].mean().sort_values(ascending=False)\n",
    "print(\"La moyenne des amendes par arrondissement est: \", moyenne_total_amende_arrondissement)"
   ]
  }
 ],
 "metadata": {
  "kernelspec": {
   "display_name": "Python 3 (ipykernel)",
   "language": "python",
   "name": "python3"
  },
  "language_info": {
   "codemirror_mode": {
    "name": "ipython",
    "version": 3
   },
   "file_extension": ".py",
   "mimetype": "text/x-python",
   "name": "python",
   "nbconvert_exporter": "python",
   "pygments_lexer": "ipython3",
   "version": "3.10.1"
  }
 },
 "nbformat": 4,
 "nbformat_minor": 5
}
